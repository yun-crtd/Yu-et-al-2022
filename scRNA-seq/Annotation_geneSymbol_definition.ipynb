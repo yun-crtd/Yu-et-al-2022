{
 "cells": [
  {
   "cell_type": "code",
   "execution_count": 6,
   "metadata": {
    "scrolled": true
   },
   "outputs": [
    {
     "name": "stderr",
     "output_type": "stream",
     "text": [
      "Loading required package: limma\n",
      "\n",
      "Loading required package: S4Vectors\n",
      "\n",
      "Loading required package: stats4\n",
      "\n",
      "Loading required package: BiocGenerics\n",
      "\n",
      "Loading required package: parallel\n",
      "\n",
      "\n",
      "Attaching package: 'BiocGenerics'\n",
      "\n",
      "\n",
      "The following objects are masked from 'package:parallel':\n",
      "\n",
      "    clusterApply, clusterApplyLB, clusterCall, clusterEvalQ,\n",
      "    clusterExport, clusterMap, parApply, parCapply, parLapply,\n",
      "    parLapplyLB, parRapply, parSapply, parSapplyLB\n",
      "\n",
      "\n",
      "The following object is masked from 'package:limma':\n",
      "\n",
      "    plotMA\n",
      "\n",
      "\n",
      "The following objects are masked from 'package:stats':\n",
      "\n",
      "    IQR, mad, sd, var, xtabs\n",
      "\n",
      "\n",
      "The following objects are masked from 'package:base':\n",
      "\n",
      "    anyDuplicated, append, as.data.frame, basename, cbind, colnames,\n",
      "    dirname, do.call, duplicated, eval, evalq, Filter, Find, get, grep,\n",
      "    grepl, intersect, is.unsorted, lapply, Map, mapply, match, mget,\n",
      "    order, paste, pmax, pmax.int, pmin, pmin.int, Position, rank,\n",
      "    rbind, Reduce, rownames, sapply, setdiff, sort, table, tapply,\n",
      "    union, unique, unsplit, which.max, which.min\n",
      "\n",
      "\n",
      "\n",
      "Attaching package: 'S4Vectors'\n",
      "\n",
      "\n",
      "The following object is masked from 'package:base':\n",
      "\n",
      "    expand.grid\n",
      "\n",
      "\n",
      "Loading required package: IRanges\n",
      "\n",
      "\n",
      "Attaching package: 'IRanges'\n",
      "\n",
      "\n",
      "The following object is masked from 'package:grDevices':\n",
      "\n",
      "    windows\n",
      "\n",
      "\n",
      "Loading required package: GenomicRanges\n",
      "\n",
      "Loading required package: GenomeInfoDb\n",
      "\n",
      "Warning message:\n",
      "\"package 'GenomeInfoDb' was built under R version 4.0.4\"\n",
      "Loading required package: SummarizedExperiment\n",
      "\n",
      "Loading required package: MatrixGenerics\n",
      "\n",
      "Loading required package: matrixStats\n",
      "\n",
      "\n",
      "Attaching package: 'MatrixGenerics'\n",
      "\n",
      "\n",
      "The following objects are masked from 'package:matrixStats':\n",
      "\n",
      "    colAlls, colAnyNAs, colAnys, colAvgsPerRowSet, colCollapse,\n",
      "    colCounts, colCummaxs, colCummins, colCumprods, colCumsums,\n",
      "    colDiffs, colIQRDiffs, colIQRs, colLogSumExps, colMadDiffs,\n",
      "    colMads, colMaxs, colMeans2, colMedians, colMins, colOrderStats,\n",
      "    colProds, colQuantiles, colRanges, colRanks, colSdDiffs, colSds,\n",
      "    colSums2, colTabulates, colVarDiffs, colVars, colWeightedMads,\n",
      "    colWeightedMeans, colWeightedMedians, colWeightedSds,\n",
      "    colWeightedVars, rowAlls, rowAnyNAs, rowAnys, rowAvgsPerColSet,\n",
      "    rowCollapse, rowCounts, rowCummaxs, rowCummins, rowCumprods,\n",
      "    rowCumsums, rowDiffs, rowIQRDiffs, rowIQRs, rowLogSumExps,\n",
      "    rowMadDiffs, rowMads, rowMaxs, rowMeans2, rowMedians, rowMins,\n",
      "    rowOrderStats, rowProds, rowQuantiles, rowRanges, rowRanks,\n",
      "    rowSdDiffs, rowSds, rowSums2, rowTabulates, rowVarDiffs, rowVars,\n",
      "    rowWeightedMads, rowWeightedMeans, rowWeightedMedians,\n",
      "    rowWeightedSds, rowWeightedVars\n",
      "\n",
      "\n",
      "Loading required package: Biobase\n",
      "\n",
      "Welcome to Bioconductor\n",
      "\n",
      "    Vignettes contain introductory material; view with\n",
      "    'browseVignettes()'. To cite Bioconductor, see\n",
      "    'citation(\"Biobase\")', and for packages 'citation(\"pkgname\")'.\n",
      "\n",
      "\n",
      "\n",
      "Attaching package: 'Biobase'\n",
      "\n",
      "\n",
      "The following object is masked from 'package:MatrixGenerics':\n",
      "\n",
      "    rowMedians\n",
      "\n",
      "\n",
      "The following objects are masked from 'package:matrixStats':\n",
      "\n",
      "    anyMissing, rowMedians\n",
      "\n",
      "\n",
      "Warning message:\n",
      "\"package 'dplyr' was built under R version 4.0.4\"\n",
      "\n",
      "Attaching package: 'dplyr'\n",
      "\n",
      "\n",
      "The following object is masked from 'package:Biobase':\n",
      "\n",
      "    combine\n",
      "\n",
      "\n",
      "The following object is masked from 'package:matrixStats':\n",
      "\n",
      "    count\n",
      "\n",
      "\n",
      "The following objects are masked from 'package:GenomicRanges':\n",
      "\n",
      "    intersect, setdiff, union\n",
      "\n",
      "\n",
      "The following object is masked from 'package:GenomeInfoDb':\n",
      "\n",
      "    intersect\n",
      "\n",
      "\n",
      "The following objects are masked from 'package:IRanges':\n",
      "\n",
      "    collapse, desc, intersect, setdiff, slice, union\n",
      "\n",
      "\n",
      "The following objects are masked from 'package:S4Vectors':\n",
      "\n",
      "    first, intersect, rename, setdiff, setequal, union\n",
      "\n",
      "\n",
      "The following objects are masked from 'package:BiocGenerics':\n",
      "\n",
      "    combine, intersect, setdiff, union\n",
      "\n",
      "\n",
      "The following objects are masked from 'package:stats':\n",
      "\n",
      "    filter, lag\n",
      "\n",
      "\n",
      "The following objects are masked from 'package:base':\n",
      "\n",
      "    intersect, setdiff, setequal, union\n",
      "\n",
      "\n",
      "Loading required package: ggrepel\n",
      "\n",
      "Registered S3 methods overwritten by 'ggalt':\n",
      "  method                  from   \n",
      "  grid.draw.absoluteGrob  ggplot2\n",
      "  grobHeight.absoluteGrob ggplot2\n",
      "  grobWidth.absoluteGrob  ggplot2\n",
      "  grobX.absoluteGrob      ggplot2\n",
      "  grobY.absoluteGrob      ggplot2\n",
      "\n",
      "Registered S3 method overwritten by 'GGally':\n",
      "  method from   \n",
      "  +.gg   ggplot2\n",
      "\n",
      "Loading required package: DelayedArray\n",
      "\n",
      "Warning message:\n",
      "\"package 'DelayedArray' was built under R version 4.0.4\"\n",
      "Loading required package: Matrix\n",
      "\n",
      "\n",
      "Attaching package: 'Matrix'\n",
      "\n",
      "\n",
      "The following object is masked from 'package:S4Vectors':\n",
      "\n",
      "    expand\n",
      "\n",
      "\n",
      "\n",
      "Attaching package: 'DelayedArray'\n",
      "\n",
      "\n",
      "The following objects are masked from 'package:base':\n",
      "\n",
      "    aperm, apply, rowsum\n",
      "\n",
      "\n",
      "Loading required package: rhdf5\n",
      "\n"
     ]
    }
   ],
   "source": [
    "library(\"edgeR\")\n",
    "library(\"DESeq2\")\n",
    "library(\"dplyr\")\n",
    "library(\"ggplot2\")\n",
    "library(\"pheatmap\")\n",
    "library(\"RColorBrewer\")\n",
    "library(\"EnhancedVolcano\")\n",
    "library(\"glmpca\")\n",
    "library(\"PoiClaClu\")\n",
    "library(\"vidger\")\n",
    "library(\"apeglm\")\n",
    "library(\"HDF5Array\")\n"
   ]
  },
  {
   "cell_type": "code",
   "execution_count": 2,
   "metadata": {},
   "outputs": [],
   "source": [
    "# BiocManager::install('EnhancedVolcano')"
   ]
  },
  {
   "cell_type": "code",
   "execution_count": 1,
   "metadata": {},
   "outputs": [],
   "source": [
    "library(\"BiocParallel\")\n",
    "register(SnowParam(4))"
   ]
  },
  {
   "cell_type": "code",
   "execution_count": null,
   "metadata": {},
   "outputs": [],
   "source": []
  },
  {
   "cell_type": "code",
   "execution_count": null,
   "metadata": {},
   "outputs": [],
   "source": []
  },
  {
   "cell_type": "code",
   "execution_count": 12,
   "metadata": {
    "scrolled": true
   },
   "outputs": [
    {
     "data": {
      "text/html": [
       "<table class=\"dataframe\">\n",
       "<caption>A data.frame: 6 × 2</caption>\n",
       "<thead>\n",
       "\t<tr><th></th><th scope=col>geneID</th><th scope=col>transcriptID</th></tr>\n",
       "\t<tr><th></th><th scope=col>&lt;chr&gt;</th><th scope=col>&lt;chr&gt;</th></tr>\n",
       "</thead>\n",
       "<tbody>\n",
       "\t<tr><th scope=row>1</th><td>AMEX60DD012306</td><td>AMEX60DD201012306.1</td></tr>\n",
       "\t<tr><th scope=row>2</th><td>AMEX60DD012307</td><td>AMEX60DD201012307.1</td></tr>\n",
       "\t<tr><th scope=row>3</th><td>AMEX60DD012308</td><td>AMEX60DD201012308.1</td></tr>\n",
       "\t<tr><th scope=row>4</th><td>AMEX60DD012309</td><td>AMEX60DD201012309.1</td></tr>\n",
       "\t<tr><th scope=row>5</th><td>AMEX60DD012310</td><td>AMEX60DD201012310.1</td></tr>\n",
       "\t<tr><th scope=row>6</th><td>AMEX60DD012311</td><td>AMEX60DD301012311.1</td></tr>\n",
       "</tbody>\n",
       "</table>\n"
      ],
      "text/latex": [
       "A data.frame: 6 × 2\n",
       "\\begin{tabular}{r|ll}\n",
       "  & geneID & transcriptID\\\\\n",
       "  & <chr> & <chr>\\\\\n",
       "\\hline\n",
       "\t1 & AMEX60DD012306 & AMEX60DD201012306.1\\\\\n",
       "\t2 & AMEX60DD012307 & AMEX60DD201012307.1\\\\\n",
       "\t3 & AMEX60DD012308 & AMEX60DD201012308.1\\\\\n",
       "\t4 & AMEX60DD012309 & AMEX60DD201012309.1\\\\\n",
       "\t5 & AMEX60DD012310 & AMEX60DD201012310.1\\\\\n",
       "\t6 & AMEX60DD012311 & AMEX60DD301012311.1\\\\\n",
       "\\end{tabular}\n"
      ],
      "text/markdown": [
       "\n",
       "A data.frame: 6 × 2\n",
       "\n",
       "| <!--/--> | geneID &lt;chr&gt; | transcriptID &lt;chr&gt; |\n",
       "|---|---|---|\n",
       "| 1 | AMEX60DD012306 | AMEX60DD201012306.1 |\n",
       "| 2 | AMEX60DD012307 | AMEX60DD201012307.1 |\n",
       "| 3 | AMEX60DD012308 | AMEX60DD201012308.1 |\n",
       "| 4 | AMEX60DD012309 | AMEX60DD201012309.1 |\n",
       "| 5 | AMEX60DD012310 | AMEX60DD201012310.1 |\n",
       "| 6 | AMEX60DD012311 | AMEX60DD301012311.1 |\n",
       "\n"
      ],
      "text/plain": [
       "  geneID         transcriptID       \n",
       "1 AMEX60DD012306 AMEX60DD201012306.1\n",
       "2 AMEX60DD012307 AMEX60DD201012307.1\n",
       "3 AMEX60DD012308 AMEX60DD201012308.1\n",
       "4 AMEX60DD012309 AMEX60DD201012309.1\n",
       "5 AMEX60DD012310 AMEX60DD201012310.1\n",
       "6 AMEX60DD012311 AMEX60DD301012311.1"
      ]
     },
     "metadata": {},
     "output_type": "display_data"
    }
   ],
   "source": [
    "g2t <- read.csv(\"./Transcript raw files/V6 (new annotation)/gx2tx_V6.txt\", sep = \" \", header = TRUE, col.names = c(\"geneID\", \"transcriptID\"))\n",
    "head(g2t)\n"
   ]
  },
  {
   "cell_type": "code",
   "execution_count": 13,
   "metadata": {},
   "outputs": [
    {
     "data": {
      "text/html": [
       "<table class=\"dataframe\">\n",
       "<caption>A data.frame: 3 × 2</caption>\n",
       "<thead>\n",
       "\t<tr><th scope=col>transcriptID</th><th scope=col>symbol</th></tr>\n",
       "\t<tr><th scope=col>&lt;chr&gt;</th><th scope=col>&lt;chr&gt;</th></tr>\n",
       "</thead>\n",
       "<tbody>\n",
       "\t<tr><td>AMEX60DD201006490.2</td><td>WNT7B</td></tr>\n",
       "\t<tr><td>AMEX60DD201006490.1</td><td>WNT7B</td></tr>\n",
       "\t<tr><td>AMEX60DD201006490.3</td><td>WNT7B</td></tr>\n",
       "</tbody>\n",
       "</table>\n"
      ],
      "text/latex": [
       "A data.frame: 3 × 2\n",
       "\\begin{tabular}{ll}\n",
       " transcriptID & symbol\\\\\n",
       " <chr> & <chr>\\\\\n",
       "\\hline\n",
       "\t AMEX60DD201006490.2 & WNT7B\\\\\n",
       "\t AMEX60DD201006490.1 & WNT7B\\\\\n",
       "\t AMEX60DD201006490.3 & WNT7B\\\\\n",
       "\\end{tabular}\n"
      ],
      "text/markdown": [
       "\n",
       "A data.frame: 3 × 2\n",
       "\n",
       "| transcriptID &lt;chr&gt; | symbol &lt;chr&gt; |\n",
       "|---|---|\n",
       "| AMEX60DD201006490.2 | WNT7B |\n",
       "| AMEX60DD201006490.1 | WNT7B |\n",
       "| AMEX60DD201006490.3 | WNT7B |\n",
       "\n"
      ],
      "text/plain": [
       "  transcriptID        symbol\n",
       "1 AMEX60DD201006490.2 WNT7B \n",
       "2 AMEX60DD201006490.1 WNT7B \n",
       "3 AMEX60DD201006490.3 WNT7B "
      ]
     },
     "metadata": {},
     "output_type": "display_data"
    }
   ],
   "source": [
    "t2symbol <- read.csv(\"./Transcript raw files/V6 (new annotation)/tx2symbol_V6.txt\", sep = \" \", header = FALSE, col.names = c(\"transcriptID\", \"symbol\"))\n",
    "# head(t2symbol)\n",
    "filter(t2symbol, symbol == c('WNT7B'))"
   ]
  },
  {
   "cell_type": "code",
   "execution_count": 14,
   "metadata": {},
   "outputs": [
    {
     "data": {
      "text/html": [
       "<style>\n",
       ".list-inline {list-style: none; margin:0; padding: 0}\n",
       ".list-inline>li {display: inline-block}\n",
       ".list-inline>li:not(:last-child)::after {content: \"\\00b7\"; padding: 0 .5ex}\n",
       "</style>\n",
       "<ol class=list-inline><li>182117</li><li>7</li></ol>\n"
      ],
      "text/latex": [
       "\\begin{enumerate*}\n",
       "\\item 182117\n",
       "\\item 7\n",
       "\\end{enumerate*}\n"
      ],
      "text/markdown": [
       "1. 182117\n",
       "2. 7\n",
       "\n",
       "\n"
      ],
      "text/plain": [
       "[1] 182117      7"
      ]
     },
     "metadata": {},
     "output_type": "display_data"
    },
    {
     "data": {
      "text/html": [
       "<table class=\"dataframe\">\n",
       "<caption>A data.frame: 2 × 7</caption>\n",
       "<thead>\n",
       "\t<tr><th scope=col>gene_id</th><th scope=col>transcript_id</th><th scope=col>chromosome</th><th scope=col>start</th><th scope=col>end</th><th scope=col>strand</th><th scope=col>percent_repeat</th></tr>\n",
       "\t<tr><th scope=col>&lt;chr&gt;</th><th scope=col>&lt;chr&gt;</th><th scope=col>&lt;chr&gt;</th><th scope=col>&lt;int&gt;</th><th scope=col>&lt;int&gt;</th><th scope=col>&lt;chr&gt;</th><th scope=col>&lt;dbl&gt;</th></tr>\n",
       "</thead>\n",
       "<tbody>\n",
       "\t<tr><td>AMEX60DD037919</td><td>AMEX60DD301037919.1</td><td>chr5p</td><td>686935374</td><td>687466532</td><td>+</td><td>0.02146</td></tr>\n",
       "\t<tr><td>AMEX60DD037919</td><td>AMEX60DD201037919.2</td><td>chr5p</td><td>686939838</td><td>687466532</td><td>+</td><td>0.02164</td></tr>\n",
       "</tbody>\n",
       "</table>\n"
      ],
      "text/latex": [
       "A data.frame: 2 × 7\n",
       "\\begin{tabular}{lllllll}\n",
       " gene\\_id & transcript\\_id & chromosome & start & end & strand & percent\\_repeat\\\\\n",
       " <chr> & <chr> & <chr> & <int> & <int> & <chr> & <dbl>\\\\\n",
       "\\hline\n",
       "\t AMEX60DD037919 & AMEX60DD301037919.1 & chr5p & 686935374 & 687466532 & + & 0.02146\\\\\n",
       "\t AMEX60DD037919 & AMEX60DD201037919.2 & chr5p & 686939838 & 687466532 & + & 0.02164\\\\\n",
       "\\end{tabular}\n"
      ],
      "text/markdown": [
       "\n",
       "A data.frame: 2 × 7\n",
       "\n",
       "| gene_id &lt;chr&gt; | transcript_id &lt;chr&gt; | chromosome &lt;chr&gt; | start &lt;int&gt; | end &lt;int&gt; | strand &lt;chr&gt; | percent_repeat &lt;dbl&gt; |\n",
       "|---|---|---|---|---|---|---|\n",
       "| AMEX60DD037919 | AMEX60DD301037919.1 | chr5p | 686935374 | 687466532 | + | 0.02146 |\n",
       "| AMEX60DD037919 | AMEX60DD201037919.2 | chr5p | 686939838 | 687466532 | + | 0.02164 |\n",
       "\n"
      ],
      "text/plain": [
       "  gene_id        transcript_id       chromosome start     end       strand\n",
       "1 AMEX60DD037919 AMEX60DD301037919.1 chr5p      686935374 687466532 +     \n",
       "2 AMEX60DD037919 AMEX60DD201037919.2 chr5p      686939838 687466532 +     \n",
       "  percent_repeat\n",
       "1 0.02146       \n",
       "2 0.02164       "
      ]
     },
     "metadata": {},
     "output_type": "display_data"
    }
   ],
   "source": [
    "repeat_content <- read.csv(\"./Transcript raw files/V6 (new annotation)/AmexG_v6_DD.repeat_content.txt\", sep = \" \", header = TRUE)\n",
    "\n",
    "dim(repeat_content)\n",
    "filter(repeat_content, gene_id == \"AMEX60DD037919\")"
   ]
  },
  {
   "cell_type": "code",
   "execution_count": 15,
   "metadata": {},
   "outputs": [
    {
     "data": {
      "text/html": [
       "<style>\n",
       ".list-inline {list-style: none; margin:0; padding: 0}\n",
       ".list-inline>li {display: inline-block}\n",
       ".list-inline>li:not(:last-child)::after {content: \"\\00b7\"; padding: 0 .5ex}\n",
       "</style>\n",
       "<ol class=list-inline><li>182117</li><li>8</li></ol>\n"
      ],
      "text/latex": [
       "\\begin{enumerate*}\n",
       "\\item 182117\n",
       "\\item 8\n",
       "\\end{enumerate*}\n"
      ],
      "text/markdown": [
       "1. 182117\n",
       "2. 8\n",
       "\n",
       "\n"
      ],
      "text/plain": [
       "[1] 182117      8"
      ]
     },
     "metadata": {},
     "output_type": "display_data"
    },
    {
     "data": {
      "text/html": [
       "<table class=\"dataframe\">\n",
       "<caption>A data.frame: 6 × 8</caption>\n",
       "<thead>\n",
       "\t<tr><th></th><th scope=col>transcriptID</th><th scope=col>symbol</th><th scope=col>gene_id</th><th scope=col>chromosome</th><th scope=col>start</th><th scope=col>end</th><th scope=col>strand</th><th scope=col>percent_repeat</th></tr>\n",
       "\t<tr><th></th><th scope=col>&lt;chr&gt;</th><th scope=col>&lt;chr&gt;</th><th scope=col>&lt;chr&gt;</th><th scope=col>&lt;chr&gt;</th><th scope=col>&lt;int&gt;</th><th scope=col>&lt;int&gt;</th><th scope=col>&lt;chr&gt;</th><th scope=col>&lt;dbl&gt;</th></tr>\n",
       "</thead>\n",
       "<tbody>\n",
       "\t<tr><th scope=row>1</th><td>AMEX60DD001003449.1 </td><td>AMEX60DD003449</td><td>AMEX60DD003449</td><td>chr11p</td><td>  39607084</td><td>  39607461</td><td>-</td><td>  0.00000</td></tr>\n",
       "\t<tr><th scope=row>2</th><td>AMEX60DD001005685.1 </td><td>AMEX60DD005685</td><td>AMEX60DD005685</td><td>chr11q</td><td> 891290936</td><td> 891291316</td><td>+</td><td>  0.00000</td></tr>\n",
       "\t<tr><th scope=row>3</th><td>AMEX60DD001009250.1 </td><td>AMEX60DD009250</td><td>AMEX60DD009250</td><td>chr13p</td><td> 239779496</td><td> 239781253</td><td>+</td><td>  0.00000</td></tr>\n",
       "\t<tr><th scope=row>4</th><td>AMEX60DD001022557.1 </td><td>AMEX60DD022557</td><td>AMEX60DD022557</td><td>chr2p </td><td>1208785144</td><td>1208785411</td><td>+</td><td>  2.99625</td></tr>\n",
       "\t<tr><th scope=row>5</th><td>AMEX60DD001025407.41</td><td>HNRNPUL2      </td><td>AMEX60DD025407</td><td>chr2q </td><td>1083253575</td><td>1083255588</td><td>-</td><td>  0.00000</td></tr>\n",
       "\t<tr><th scope=row>6</th><td>AMEX60DD001026849.1 </td><td>AMEX60DD026849</td><td>AMEX60DD026849</td><td>chr3p </td><td> 163186719</td><td> 163186985</td><td>-</td><td>100.00000</td></tr>\n",
       "</tbody>\n",
       "</table>\n"
      ],
      "text/latex": [
       "A data.frame: 6 × 8\n",
       "\\begin{tabular}{r|llllllll}\n",
       "  & transcriptID & symbol & gene\\_id & chromosome & start & end & strand & percent\\_repeat\\\\\n",
       "  & <chr> & <chr> & <chr> & <chr> & <int> & <int> & <chr> & <dbl>\\\\\n",
       "\\hline\n",
       "\t1 & AMEX60DD001003449.1  & AMEX60DD003449 & AMEX60DD003449 & chr11p &   39607084 &   39607461 & - &   0.00000\\\\\n",
       "\t2 & AMEX60DD001005685.1  & AMEX60DD005685 & AMEX60DD005685 & chr11q &  891290936 &  891291316 & + &   0.00000\\\\\n",
       "\t3 & AMEX60DD001009250.1  & AMEX60DD009250 & AMEX60DD009250 & chr13p &  239779496 &  239781253 & + &   0.00000\\\\\n",
       "\t4 & AMEX60DD001022557.1  & AMEX60DD022557 & AMEX60DD022557 & chr2p  & 1208785144 & 1208785411 & + &   2.99625\\\\\n",
       "\t5 & AMEX60DD001025407.41 & HNRNPUL2       & AMEX60DD025407 & chr2q  & 1083253575 & 1083255588 & - &   0.00000\\\\\n",
       "\t6 & AMEX60DD001026849.1  & AMEX60DD026849 & AMEX60DD026849 & chr3p  &  163186719 &  163186985 & - & 100.00000\\\\\n",
       "\\end{tabular}\n"
      ],
      "text/markdown": [
       "\n",
       "A data.frame: 6 × 8\n",
       "\n",
       "| <!--/--> | transcriptID &lt;chr&gt; | symbol &lt;chr&gt; | gene_id &lt;chr&gt; | chromosome &lt;chr&gt; | start &lt;int&gt; | end &lt;int&gt; | strand &lt;chr&gt; | percent_repeat &lt;dbl&gt; |\n",
       "|---|---|---|---|---|---|---|---|---|\n",
       "| 1 | AMEX60DD001003449.1  | AMEX60DD003449 | AMEX60DD003449 | chr11p |   39607084 |   39607461 | - |   0.00000 |\n",
       "| 2 | AMEX60DD001005685.1  | AMEX60DD005685 | AMEX60DD005685 | chr11q |  891290936 |  891291316 | + |   0.00000 |\n",
       "| 3 | AMEX60DD001009250.1  | AMEX60DD009250 | AMEX60DD009250 | chr13p |  239779496 |  239781253 | + |   0.00000 |\n",
       "| 4 | AMEX60DD001022557.1  | AMEX60DD022557 | AMEX60DD022557 | chr2p  | 1208785144 | 1208785411 | + |   2.99625 |\n",
       "| 5 | AMEX60DD001025407.41 | HNRNPUL2       | AMEX60DD025407 | chr2q  | 1083253575 | 1083255588 | - |   0.00000 |\n",
       "| 6 | AMEX60DD001026849.1  | AMEX60DD026849 | AMEX60DD026849 | chr3p  |  163186719 |  163186985 | - | 100.00000 |\n",
       "\n"
      ],
      "text/plain": [
       "  transcriptID         symbol         gene_id        chromosome start     \n",
       "1 AMEX60DD001003449.1  AMEX60DD003449 AMEX60DD003449 chr11p       39607084\n",
       "2 AMEX60DD001005685.1  AMEX60DD005685 AMEX60DD005685 chr11q      891290936\n",
       "3 AMEX60DD001009250.1  AMEX60DD009250 AMEX60DD009250 chr13p      239779496\n",
       "4 AMEX60DD001022557.1  AMEX60DD022557 AMEX60DD022557 chr2p      1208785144\n",
       "5 AMEX60DD001025407.41 HNRNPUL2       AMEX60DD025407 chr2q      1083253575\n",
       "6 AMEX60DD001026849.1  AMEX60DD026849 AMEX60DD026849 chr3p       163186719\n",
       "  end        strand percent_repeat\n",
       "1   39607461 -        0.00000     \n",
       "2  891291316 +        0.00000     \n",
       "3  239781253 +        0.00000     \n",
       "4 1208785411 +        2.99625     \n",
       "5 1083255588 -        0.00000     \n",
       "6  163186985 -      100.00000     "
      ]
     },
     "metadata": {},
     "output_type": "display_data"
    }
   ],
   "source": [
    "# Add SYMBOL\n",
    "repeat_content = merge(t2symbol,repeat_content, by.x=\"transcriptID\", by.y=\"transcript_id\")\n",
    "dim(repeat_content)\n",
    "head(repeat_content)"
   ]
  },
  {
   "cell_type": "code",
   "execution_count": 17,
   "metadata": {},
   "outputs": [
    {
     "data": {
      "text/html": [
       "<style>\n",
       ".list-inline {list-style: none; margin:0; padding: 0}\n",
       ".list-inline>li {display: inline-block}\n",
       ".list-inline>li:not(:last-child)::after {content: \"\\00b7\"; padding: 0 .5ex}\n",
       "</style>\n",
       "<ol class=list-inline><li>127620</li><li>8</li></ol>\n"
      ],
      "text/latex": [
       "\\begin{enumerate*}\n",
       "\\item 127620\n",
       "\\item 8\n",
       "\\end{enumerate*}\n"
      ],
      "text/markdown": [
       "1. 127620\n",
       "2. 8\n",
       "\n",
       "\n"
      ],
      "text/plain": [
       "[1] 127620      8"
      ]
     },
     "metadata": {},
     "output_type": "display_data"
    },
    {
     "data": {
      "text/html": [
       "<style>\n",
       ".list-inline {list-style: none; margin:0; padding: 0}\n",
       ".list-inline>li {display: inline-block}\n",
       ".list-inline>li:not(:last-child)::after {content: \"\\00b7\"; padding: 0 .5ex}\n",
       "</style>\n",
       "<ol class=list-inline><li>133940</li><li>8</li></ol>\n"
      ],
      "text/latex": [
       "\\begin{enumerate*}\n",
       "\\item 133940\n",
       "\\item 8\n",
       "\\end{enumerate*}\n"
      ],
      "text/markdown": [
       "1. 133940\n",
       "2. 8\n",
       "\n",
       "\n"
      ],
      "text/plain": [
       "[1] 133940      8"
      ]
     },
     "metadata": {},
     "output_type": "display_data"
    },
    {
     "data": {
      "text/html": [
       "<table class=\"dataframe\">\n",
       "<caption>A data.frame: 3 × 8</caption>\n",
       "<thead>\n",
       "\t<tr><th scope=col>transcriptID</th><th scope=col>symbol</th><th scope=col>gene_id</th><th scope=col>chromosome</th><th scope=col>start</th><th scope=col>end</th><th scope=col>strand</th><th scope=col>percent_repeat</th></tr>\n",
       "\t<tr><th scope=col>&lt;chr&gt;</th><th scope=col>&lt;chr&gt;</th><th scope=col>&lt;chr&gt;</th><th scope=col>&lt;chr&gt;</th><th scope=col>&lt;int&gt;</th><th scope=col>&lt;int&gt;</th><th scope=col>&lt;chr&gt;</th><th scope=col>&lt;dbl&gt;</th></tr>\n",
       "</thead>\n",
       "<tbody>\n",
       "\t<tr><td>AMEX60DD201006490.1</td><td>WNT7B</td><td>AMEX60DD006490</td><td>chr12p</td><td>132702651</td><td>133282449</td><td>-</td><td>0.34978</td></tr>\n",
       "\t<tr><td>AMEX60DD201006490.2</td><td>WNT7B</td><td>AMEX60DD006490</td><td>chr12p</td><td>132702651</td><td>133108508</td><td>-</td><td>0.61081</td></tr>\n",
       "\t<tr><td>AMEX60DD201006490.3</td><td>WNT7B</td><td>AMEX60DD006490</td><td>chr12p</td><td>132709704</td><td>133108508</td><td>-</td><td>0.01479</td></tr>\n",
       "</tbody>\n",
       "</table>\n"
      ],
      "text/latex": [
       "A data.frame: 3 × 8\n",
       "\\begin{tabular}{llllllll}\n",
       " transcriptID & symbol & gene\\_id & chromosome & start & end & strand & percent\\_repeat\\\\\n",
       " <chr> & <chr> & <chr> & <chr> & <int> & <int> & <chr> & <dbl>\\\\\n",
       "\\hline\n",
       "\t AMEX60DD201006490.1 & WNT7B & AMEX60DD006490 & chr12p & 132702651 & 133282449 & - & 0.34978\\\\\n",
       "\t AMEX60DD201006490.2 & WNT7B & AMEX60DD006490 & chr12p & 132702651 & 133108508 & - & 0.61081\\\\\n",
       "\t AMEX60DD201006490.3 & WNT7B & AMEX60DD006490 & chr12p & 132709704 & 133108508 & - & 0.01479\\\\\n",
       "\\end{tabular}\n"
      ],
      "text/markdown": [
       "\n",
       "A data.frame: 3 × 8\n",
       "\n",
       "| transcriptID &lt;chr&gt; | symbol &lt;chr&gt; | gene_id &lt;chr&gt; | chromosome &lt;chr&gt; | start &lt;int&gt; | end &lt;int&gt; | strand &lt;chr&gt; | percent_repeat &lt;dbl&gt; |\n",
       "|---|---|---|---|---|---|---|---|\n",
       "| AMEX60DD201006490.1 | WNT7B | AMEX60DD006490 | chr12p | 132702651 | 133282449 | - | 0.34978 |\n",
       "| AMEX60DD201006490.2 | WNT7B | AMEX60DD006490 | chr12p | 132702651 | 133108508 | - | 0.61081 |\n",
       "| AMEX60DD201006490.3 | WNT7B | AMEX60DD006490 | chr12p | 132709704 | 133108508 | - | 0.01479 |\n",
       "\n"
      ],
      "text/plain": [
       "  transcriptID        symbol gene_id        chromosome start     end      \n",
       "1 AMEX60DD201006490.1 WNT7B  AMEX60DD006490 chr12p     132702651 133282449\n",
       "2 AMEX60DD201006490.2 WNT7B  AMEX60DD006490 chr12p     132702651 133108508\n",
       "3 AMEX60DD201006490.3 WNT7B  AMEX60DD006490 chr12p     132709704 133108508\n",
       "  strand percent_repeat\n",
       "1 -      0.34978       \n",
       "2 -      0.61081       \n",
       "3 -      0.01479       "
      ]
     },
     "metadata": {},
     "output_type": "display_data"
    }
   ],
   "source": [
    "dim(filter(repeat_content, percent_repeat<=5))\n",
    "dim(filter(repeat_content, percent_repeat<=10))\n",
    "\n",
    "filter(repeat_content, symbol == \"WNT7B\")\n"
   ]
  },
  {
   "cell_type": "code",
   "execution_count": 98,
   "metadata": {},
   "outputs": [
    {
     "data": {
      "text/html": [
       "<table class=\"dataframe\">\n",
       "<caption>A data.frame: 34 × 2</caption>\n",
       "<thead>\n",
       "\t<tr><th scope=col>symbol</th><th scope=col>gene_id</th></tr>\n",
       "\t<tr><th scope=col>&lt;chr&gt;</th><th scope=col>&lt;chr&gt;</th></tr>\n",
       "</thead>\n",
       "<tbody>\n",
       "\t<tr><td>CHK1</td><td>AMEX60DD000807    </td></tr>\n",
       "\t<tr><td>CHK1</td><td>AMEX60DD003682    </td></tr>\n",
       "\t<tr><td>CHK1</td><td>AMEX60DD004517    </td></tr>\n",
       "\t<tr><td>CHK1</td><td>AMEX60DD005669    </td></tr>\n",
       "\t<tr><td>CHK1</td><td>AMEX60DD005723    </td></tr>\n",
       "\t<tr><td>CHK1</td><td>AMEX60DD010457    </td></tr>\n",
       "\t<tr><td>CHK1</td><td>AMEX60DD018300    </td></tr>\n",
       "\t<tr><td>CHK1</td><td>AMEX60DD021029    </td></tr>\n",
       "\t<tr><td>CHK1</td><td>AMEX60DD021579    </td></tr>\n",
       "\t<tr><td>CHK1</td><td>AMEX60DD021668    </td></tr>\n",
       "\t<tr><td>CHK1</td><td>AMEX60DD027403    </td></tr>\n",
       "\t<tr><td>CHK1</td><td>AMEX60DD033857    </td></tr>\n",
       "\t<tr><td>CHK1</td><td>AMEX60DD034324    </td></tr>\n",
       "\t<tr><td>CHK1</td><td>AMEX60DD034955    </td></tr>\n",
       "\t<tr><td>CHK1</td><td>AMEX60DD035402    </td></tr>\n",
       "\t<tr><td>CHK1</td><td>AMEX60DD035452    </td></tr>\n",
       "\t<tr><td>CHK1</td><td>AMEX60DD040441    </td></tr>\n",
       "\t<tr><td>CHK1</td><td>AMEX60DD041562    </td></tr>\n",
       "\t<tr><td>CHK1</td><td>AMEX60DD041706    </td></tr>\n",
       "\t<tr><td>CHK1</td><td>AMEX60DD045760    </td></tr>\n",
       "\t<tr><td>CHK1</td><td>AMEX60DD046071    </td></tr>\n",
       "\t<tr><td>CHK1</td><td>AMEX60DD047143    </td></tr>\n",
       "\t<tr><td>CHK1</td><td>AMEX60DD047680    </td></tr>\n",
       "\t<tr><td>CHK1</td><td>AMEX60DD051217    </td></tr>\n",
       "\t<tr><td>CHK1</td><td>AMEX60DD051218    </td></tr>\n",
       "\t<tr><td>CHK1</td><td>AMEX60DD052909    </td></tr>\n",
       "\t<tr><td>CHK1</td><td>AMEX60DD055185    </td></tr>\n",
       "\t<tr><td>CHK1</td><td>AMEX60DD007131    </td></tr>\n",
       "\t<tr><td>CHK1</td><td>AMEX60DD037053    </td></tr>\n",
       "\t<tr><td>CHK1</td><td>AMEX60DD044191    </td></tr>\n",
       "\t<tr><td>CHK1</td><td>AMEX60DDU001019579</td></tr>\n",
       "\t<tr><td>CHK1</td><td>AMEX60DDU001020232</td></tr>\n",
       "\t<tr><td>CHK1</td><td>AMEX60DDU001021616</td></tr>\n",
       "\t<tr><td>CHK1</td><td>AMEX60DDU001038200</td></tr>\n",
       "</tbody>\n",
       "</table>\n"
      ],
      "text/latex": [
       "A data.frame: 34 × 2\n",
       "\\begin{tabular}{ll}\n",
       " symbol & gene\\_id\\\\\n",
       " <chr> & <chr>\\\\\n",
       "\\hline\n",
       "\t CHK1 & AMEX60DD000807    \\\\\n",
       "\t CHK1 & AMEX60DD003682    \\\\\n",
       "\t CHK1 & AMEX60DD004517    \\\\\n",
       "\t CHK1 & AMEX60DD005669    \\\\\n",
       "\t CHK1 & AMEX60DD005723    \\\\\n",
       "\t CHK1 & AMEX60DD010457    \\\\\n",
       "\t CHK1 & AMEX60DD018300    \\\\\n",
       "\t CHK1 & AMEX60DD021029    \\\\\n",
       "\t CHK1 & AMEX60DD021579    \\\\\n",
       "\t CHK1 & AMEX60DD021668    \\\\\n",
       "\t CHK1 & AMEX60DD027403    \\\\\n",
       "\t CHK1 & AMEX60DD033857    \\\\\n",
       "\t CHK1 & AMEX60DD034324    \\\\\n",
       "\t CHK1 & AMEX60DD034955    \\\\\n",
       "\t CHK1 & AMEX60DD035402    \\\\\n",
       "\t CHK1 & AMEX60DD035452    \\\\\n",
       "\t CHK1 & AMEX60DD040441    \\\\\n",
       "\t CHK1 & AMEX60DD041562    \\\\\n",
       "\t CHK1 & AMEX60DD041706    \\\\\n",
       "\t CHK1 & AMEX60DD045760    \\\\\n",
       "\t CHK1 & AMEX60DD046071    \\\\\n",
       "\t CHK1 & AMEX60DD047143    \\\\\n",
       "\t CHK1 & AMEX60DD047680    \\\\\n",
       "\t CHK1 & AMEX60DD051217    \\\\\n",
       "\t CHK1 & AMEX60DD051218    \\\\\n",
       "\t CHK1 & AMEX60DD052909    \\\\\n",
       "\t CHK1 & AMEX60DD055185    \\\\\n",
       "\t CHK1 & AMEX60DD007131    \\\\\n",
       "\t CHK1 & AMEX60DD037053    \\\\\n",
       "\t CHK1 & AMEX60DD044191    \\\\\n",
       "\t CHK1 & AMEX60DDU001019579\\\\\n",
       "\t CHK1 & AMEX60DDU001020232\\\\\n",
       "\t CHK1 & AMEX60DDU001021616\\\\\n",
       "\t CHK1 & AMEX60DDU001038200\\\\\n",
       "\\end{tabular}\n"
      ],
      "text/markdown": [
       "\n",
       "A data.frame: 34 × 2\n",
       "\n",
       "| symbol &lt;chr&gt; | gene_id &lt;chr&gt; |\n",
       "|---|---|\n",
       "| CHK1 | AMEX60DD000807     |\n",
       "| CHK1 | AMEX60DD003682     |\n",
       "| CHK1 | AMEX60DD004517     |\n",
       "| CHK1 | AMEX60DD005669     |\n",
       "| CHK1 | AMEX60DD005723     |\n",
       "| CHK1 | AMEX60DD010457     |\n",
       "| CHK1 | AMEX60DD018300     |\n",
       "| CHK1 | AMEX60DD021029     |\n",
       "| CHK1 | AMEX60DD021579     |\n",
       "| CHK1 | AMEX60DD021668     |\n",
       "| CHK1 | AMEX60DD027403     |\n",
       "| CHK1 | AMEX60DD033857     |\n",
       "| CHK1 | AMEX60DD034324     |\n",
       "| CHK1 | AMEX60DD034955     |\n",
       "| CHK1 | AMEX60DD035402     |\n",
       "| CHK1 | AMEX60DD035452     |\n",
       "| CHK1 | AMEX60DD040441     |\n",
       "| CHK1 | AMEX60DD041562     |\n",
       "| CHK1 | AMEX60DD041706     |\n",
       "| CHK1 | AMEX60DD045760     |\n",
       "| CHK1 | AMEX60DD046071     |\n",
       "| CHK1 | AMEX60DD047143     |\n",
       "| CHK1 | AMEX60DD047680     |\n",
       "| CHK1 | AMEX60DD051217     |\n",
       "| CHK1 | AMEX60DD051218     |\n",
       "| CHK1 | AMEX60DD052909     |\n",
       "| CHK1 | AMEX60DD055185     |\n",
       "| CHK1 | AMEX60DD007131     |\n",
       "| CHK1 | AMEX60DD037053     |\n",
       "| CHK1 | AMEX60DD044191     |\n",
       "| CHK1 | AMEX60DDU001019579 |\n",
       "| CHK1 | AMEX60DDU001020232 |\n",
       "| CHK1 | AMEX60DDU001021616 |\n",
       "| CHK1 | AMEX60DDU001038200 |\n",
       "\n"
      ],
      "text/plain": [
       "   symbol gene_id           \n",
       "1  CHK1   AMEX60DD000807    \n",
       "2  CHK1   AMEX60DD003682    \n",
       "3  CHK1   AMEX60DD004517    \n",
       "4  CHK1   AMEX60DD005669    \n",
       "5  CHK1   AMEX60DD005723    \n",
       "6  CHK1   AMEX60DD010457    \n",
       "7  CHK1   AMEX60DD018300    \n",
       "8  CHK1   AMEX60DD021029    \n",
       "9  CHK1   AMEX60DD021579    \n",
       "10 CHK1   AMEX60DD021668    \n",
       "11 CHK1   AMEX60DD027403    \n",
       "12 CHK1   AMEX60DD033857    \n",
       "13 CHK1   AMEX60DD034324    \n",
       "14 CHK1   AMEX60DD034955    \n",
       "15 CHK1   AMEX60DD035402    \n",
       "16 CHK1   AMEX60DD035452    \n",
       "17 CHK1   AMEX60DD040441    \n",
       "18 CHK1   AMEX60DD041562    \n",
       "19 CHK1   AMEX60DD041706    \n",
       "20 CHK1   AMEX60DD045760    \n",
       "21 CHK1   AMEX60DD046071    \n",
       "22 CHK1   AMEX60DD047143    \n",
       "23 CHK1   AMEX60DD047680    \n",
       "24 CHK1   AMEX60DD051217    \n",
       "25 CHK1   AMEX60DD051218    \n",
       "26 CHK1   AMEX60DD052909    \n",
       "27 CHK1   AMEX60DD055185    \n",
       "28 CHK1   AMEX60DD007131    \n",
       "29 CHK1   AMEX60DD037053    \n",
       "30 CHK1   AMEX60DD044191    \n",
       "31 CHK1   AMEX60DDU001019579\n",
       "32 CHK1   AMEX60DDU001020232\n",
       "33 CHK1   AMEX60DDU001021616\n",
       "34 CHK1   AMEX60DDU001038200"
      ]
     },
     "metadata": {},
     "output_type": "display_data"
    }
   ],
   "source": [
    "## Filter and keep two columns\n",
    "\n",
    "filtered_repeat_content = unique(filter(repeat_content, percent_repeat<=5)[c(\"symbol\",\"gene_id\")])\n",
    "filter(filtered_repeat_content, symbol == \"CHK1\")"
   ]
  },
  {
   "cell_type": "code",
   "execution_count": 99,
   "metadata": {},
   "outputs": [],
   "source": [
    "# rownames(filtered_repeat_content) = c(make.unique(filtered_repeat_content$symbol))\n",
    "filtered_repeat_content$symbol = c(make.names(make.unique(filtered_repeat_content$symbol)))"
   ]
  },
  {
   "cell_type": "code",
   "execution_count": 101,
   "metadata": {},
   "outputs": [],
   "source": [
    "write.csv(filtered_repeat_content,\"./geneid_symbol_filtered_unique.csv\",row.names=FALSE)"
   ]
  },
  {
   "cell_type": "code",
   "execution_count": 100,
   "metadata": {},
   "outputs": [
    {
     "data": {
      "text/html": [
       "<table class=\"dataframe\">\n",
       "<caption>A data.frame: 1 × 2</caption>\n",
       "<thead>\n",
       "\t<tr><th scope=col>symbol</th><th scope=col>gene_id</th></tr>\n",
       "\t<tr><th scope=col>&lt;chr&gt;</th><th scope=col>&lt;chr&gt;</th></tr>\n",
       "</thead>\n",
       "<tbody>\n",
       "\t<tr><td>CHK1</td><td>AMEX60DD000807</td></tr>\n",
       "</tbody>\n",
       "</table>\n"
      ],
      "text/latex": [
       "A data.frame: 1 × 2\n",
       "\\begin{tabular}{ll}\n",
       " symbol & gene\\_id\\\\\n",
       " <chr> & <chr>\\\\\n",
       "\\hline\n",
       "\t CHK1 & AMEX60DD000807\\\\\n",
       "\\end{tabular}\n"
      ],
      "text/markdown": [
       "\n",
       "A data.frame: 1 × 2\n",
       "\n",
       "| symbol &lt;chr&gt; | gene_id &lt;chr&gt; |\n",
       "|---|---|\n",
       "| CHK1 | AMEX60DD000807 |\n",
       "\n"
      ],
      "text/plain": [
       "  symbol gene_id       \n",
       "1 CHK1   AMEX60DD000807"
      ]
     },
     "metadata": {},
     "output_type": "display_data"
    }
   ],
   "source": [
    "filter(filtered_repeat_content, symbol == \"CHK1\")"
   ]
  },
  {
   "cell_type": "code",
   "execution_count": null,
   "metadata": {},
   "outputs": [],
   "source": []
  },
  {
   "cell_type": "code",
   "execution_count": null,
   "metadata": {},
   "outputs": [],
   "source": []
  },
  {
   "cell_type": "code",
   "execution_count": null,
   "metadata": {},
   "outputs": [],
   "source": []
  },
  {
   "cell_type": "code",
   "execution_count": null,
   "metadata": {},
   "outputs": [],
   "source": []
  },
  {
   "cell_type": "code",
   "execution_count": null,
   "metadata": {},
   "outputs": [],
   "source": []
  }
 ],
 "metadata": {
  "kernelspec": {
   "display_name": "R",
   "language": "R",
   "name": "ir"
  },
  "language_info": {
   "codemirror_mode": "r",
   "file_extension": ".r",
   "mimetype": "text/x-r-source",
   "name": "R",
   "pygments_lexer": "r",
   "version": "4.0.3"
  }
 },
 "nbformat": 4,
 "nbformat_minor": 4
}
